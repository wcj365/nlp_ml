{
 "cells": [
  {
   "cell_type": "markdown",
   "metadata": {},
   "source": [
    "## Medical Device Recalls\n",
    "\n",
    "### Step 2 - Explore Data\n",
    "\n",
    "- Class I: A situation where there is a reasonable chance that a product will cause serious health problems or death.\n",
    "\n",
    "- Class II: A situation where a product may cause a temporary or reversible health problem or where there is a slight chance that it will cause serious health problems or death.\n",
    "\n",
    "- Class III: A situation where a product is not likely to cause any health problem or injury."
   ]
  },
  {
   "cell_type": "code",
   "execution_count": 1,
   "metadata": {},
   "outputs": [],
   "source": [
    "import pandas as pd\n",
    "import plotly.express as px\n",
    "\n",
    "pd.set_option(\"display.max_colwidth\",None)"
   ]
  },
  {
   "cell_type": "code",
   "execution_count": 2,
   "metadata": {},
   "outputs": [
    {
     "data": {
      "text/html": [
       "<div>\n",
       "<style scoped>\n",
       "    .dataframe tbody tr th:only-of-type {\n",
       "        vertical-align: middle;\n",
       "    }\n",
       "\n",
       "    .dataframe tbody tr th {\n",
       "        vertical-align: top;\n",
       "    }\n",
       "\n",
       "    .dataframe thead th {\n",
       "        text-align: right;\n",
       "    }\n",
       "</style>\n",
       "<table border=\"1\" class=\"dataframe\">\n",
       "  <thead>\n",
       "    <tr style=\"text-align: right;\">\n",
       "      <th></th>\n",
       "      <th>0</th>\n",
       "    </tr>\n",
       "  </thead>\n",
       "  <tbody>\n",
       "    <tr>\n",
       "      <th>country</th>\n",
       "      <td>United States</td>\n",
       "    </tr>\n",
       "    <tr>\n",
       "      <th>city</th>\n",
       "      <td>San Clemente</td>\n",
       "    </tr>\n",
       "    <tr>\n",
       "      <th>address_1</th>\n",
       "      <td>951 Calle Amanecer</td>\n",
       "    </tr>\n",
       "    <tr>\n",
       "      <th>reason_for_recall</th>\n",
       "      <td>Identification of a  potential  manufacturing defect on the internal surface of the NanoClave within specific lots of NanoClave sets, which may inhibit a proper seal with the NanoClave spike.</td>\n",
       "    </tr>\n",
       "    <tr>\n",
       "      <th>address_2</th>\n",
       "      <td>NaN</td>\n",
       "    </tr>\n",
       "    <tr>\n",
       "      <th>product_quantity</th>\n",
       "      <td>Total of all products (Listed #1 thru 101) = 304735 units</td>\n",
       "    </tr>\n",
       "    <tr>\n",
       "      <th>code_info</th>\n",
       "      <td>Lot Number:4496182.</td>\n",
       "    </tr>\n",
       "    <tr>\n",
       "      <th>center_classification_date</th>\n",
       "      <td>20201022</td>\n",
       "    </tr>\n",
       "    <tr>\n",
       "      <th>distribution_pattern</th>\n",
       "      <td>Worldwide Distribution: US (nationwide): AL, AZ, CA, CO, DE, FL,GA,ID, IL,IN, KY, LA, MA, MD, MI, MN, MO, MS, NC, NE, NH,NJ,NM,NV, NY, OH, OK, OR, PA,RI, TN, TX, UT, VA, WA, WI, and WV; and OUS countries of: Belgium, Brazil, Canada, France, Germany, Ireland, Japan, Martinique, Mexico, Poland, and Saudi Arabia.</td>\n",
       "    </tr>\n",
       "    <tr>\n",
       "      <th>state</th>\n",
       "      <td>CA</td>\n",
       "    </tr>\n",
       "    <tr>\n",
       "      <th>product_description</th>\n",
       "      <td>APPX 0.75ml, 6-Port NanoClave Manifold (Glow, Red, Blue, Purple, Yellow Rings)BCV. 1 unit per pouch, 50 pouches per case.  UDI: (01)10840619083929(17)241201(30)50(10)4496182.    Administration sets and their accessories are single use, pre-sterilized devices that provide access for the administration of fluids from a container to a patients vascular system through the administrations set needle or catheter, which is inserted into the vein</td>\n",
       "    </tr>\n",
       "    <tr>\n",
       "      <th>report_date</th>\n",
       "      <td>20201028</td>\n",
       "    </tr>\n",
       "    <tr>\n",
       "      <th>classification</th>\n",
       "      <td>Class II</td>\n",
       "    </tr>\n",
       "    <tr>\n",
       "      <th>openfda</th>\n",
       "      <td>{}</td>\n",
       "    </tr>\n",
       "    <tr>\n",
       "      <th>recalling_firm</th>\n",
       "      <td>ICU Medical, Inc.</td>\n",
       "    </tr>\n",
       "    <tr>\n",
       "      <th>recall_number</th>\n",
       "      <td>Z-0272-2021</td>\n",
       "    </tr>\n",
       "    <tr>\n",
       "      <th>initial_firm_notification</th>\n",
       "      <td>Letter</td>\n",
       "    </tr>\n",
       "    <tr>\n",
       "      <th>product_type</th>\n",
       "      <td>Devices</td>\n",
       "    </tr>\n",
       "    <tr>\n",
       "      <th>event_id</th>\n",
       "      <td>86054</td>\n",
       "    </tr>\n",
       "    <tr>\n",
       "      <th>recall_initiation_date</th>\n",
       "      <td>20200706</td>\n",
       "    </tr>\n",
       "    <tr>\n",
       "      <th>postal_code</th>\n",
       "      <td>92673-6212</td>\n",
       "    </tr>\n",
       "    <tr>\n",
       "      <th>voluntary_mandated</th>\n",
       "      <td>Voluntary: Firm initiated</td>\n",
       "    </tr>\n",
       "    <tr>\n",
       "      <th>status</th>\n",
       "      <td>Ongoing</td>\n",
       "    </tr>\n",
       "    <tr>\n",
       "      <th>termination_date</th>\n",
       "      <td>NaN</td>\n",
       "    </tr>\n",
       "    <tr>\n",
       "      <th>more_code_info</th>\n",
       "      <td>NaN</td>\n",
       "    </tr>\n",
       "  </tbody>\n",
       "</table>\n",
       "</div>"
      ],
      "text/plain": [
       "                                                                                                                                                                                                                                                                                                                                                                                                                                                                                     0\n",
       "country                                                                                                                                                                                                                                                                                                                                                                                                                                                                  United States\n",
       "city                                                                                                                                                                                                                                                                                                                                                                                                                                                                      San Clemente\n",
       "address_1                                                                                                                                                                                                                                                                                                                                                                                                                                                           951 Calle Amanecer\n",
       "reason_for_recall                                                                                                                                                                                                                                                                      Identification of a  potential  manufacturing defect on the internal surface of the NanoClave within specific lots of NanoClave sets, which may inhibit a proper seal with the NanoClave spike.\n",
       "address_2                                                                                                                                                                                                                                                                                                                                                                                                                                                                          NaN\n",
       "product_quantity                                                                                                                                                                                                                                                                                                                                                                                                             Total of all products (Listed #1 thru 101) = 304735 units\n",
       "code_info                                                                                                                                                                                                                                                                                                                                                                                                                                                          Lot Number:4496182.\n",
       "center_classification_date                                                                                                                                                                                                                                                                                                                                                                                                                                                    20201022\n",
       "distribution_pattern                                                                                                                                           Worldwide Distribution: US (nationwide): AL, AZ, CA, CO, DE, FL,GA,ID, IL,IN, KY, LA, MA, MD, MI, MN, MO, MS, NC, NE, NH,NJ,NM,NV, NY, OH, OK, OR, PA,RI, TN, TX, UT, VA, WA, WI, and WV; and OUS countries of: Belgium, Brazil, Canada, France, Germany, Ireland, Japan, Martinique, Mexico, Poland, and Saudi Arabia.\n",
       "state                                                                                                                                                                                                                                                                                                                                                                                                                                                                               CA\n",
       "product_description         APPX 0.75ml, 6-Port NanoClave Manifold (Glow, Red, Blue, Purple, Yellow Rings)BCV. 1 unit per pouch, 50 pouches per case.  UDI: (01)10840619083929(17)241201(30)50(10)4496182.    Administration sets and their accessories are single use, pre-sterilized devices that provide access for the administration of fluids from a container to a patients vascular system through the administrations set needle or catheter, which is inserted into the vein\n",
       "report_date                                                                                                                                                                                                                                                                                                                                                                                                                                                                   20201028\n",
       "classification                                                                                                                                                                                                                                                                                                                                                                                                                                                                Class II\n",
       "openfda                                                                                                                                                                                                                                                                                                                                                                                                                                                                             {}\n",
       "recalling_firm                                                                                                                                                                                                                                                                                                                                                                                                                                                       ICU Medical, Inc.\n",
       "recall_number                                                                                                                                                                                                                                                                                                                                                                                                                                                              Z-0272-2021\n",
       "initial_firm_notification                                                                                                                                                                                                                                                                                                                                                                                                                                                       Letter\n",
       "product_type                                                                                                                                                                                                                                                                                                                                                                                                                                                                   Devices\n",
       "event_id                                                                                                                                                                                                                                                                                                                                                                                                                                                                         86054\n",
       "recall_initiation_date                                                                                                                                                                                                                                                                                                                                                                                                                                                        20200706\n",
       "postal_code                                                                                                                                                                                                                                                                                                                                                                                                                                                                 92673-6212\n",
       "voluntary_mandated                                                                                                                                                                                                                                                                                                                                                                                                                                           Voluntary: Firm initiated\n",
       "status                                                                                                                                                                                                                                                                                                                                                                                                                                                                         Ongoing\n",
       "termination_date                                                                                                                                                                                                                                                                                                                                                                                                                                                                   NaN\n",
       "more_code_info                                                                                                                                                                                                                                                                                                                                                                                                                                                                     NaN"
      ]
     },
     "execution_count": 2,
     "metadata": {},
     "output_type": "execute_result"
    }
   ],
   "source": [
    "df = pd.read_csv(\"../data/source/enforcement_reports.csv\")\n",
    "df.head(1).T"
   ]
  },
  {
   "cell_type": "code",
   "execution_count": 3,
   "metadata": {},
   "outputs": [
    {
     "name": "stdout",
     "output_type": "stream",
     "text": [
      "<class 'pandas.core.frame.DataFrame'>\n",
      "RangeIndex: 6904 entries, 0 to 6903\n",
      "Data columns (total 25 columns):\n",
      " #   Column                      Non-Null Count  Dtype  \n",
      "---  ------                      --------------  -----  \n",
      " 0   country                     6904 non-null   object \n",
      " 1   city                        6904 non-null   object \n",
      " 2   address_1                   6904 non-null   object \n",
      " 3   reason_for_recall           6904 non-null   object \n",
      " 4   address_2                   465 non-null    object \n",
      " 5   product_quantity            6387 non-null   object \n",
      " 6   code_info                   6887 non-null   object \n",
      " 7   center_classification_date  6904 non-null   int64  \n",
      " 8   distribution_pattern        6903 non-null   object \n",
      " 9   state                       6130 non-null   object \n",
      " 10  product_description         6903 non-null   object \n",
      " 11  report_date                 6904 non-null   int64  \n",
      " 12  classification              6904 non-null   object \n",
      " 13  openfda                     6904 non-null   object \n",
      " 14  recalling_firm              6904 non-null   object \n",
      " 15  recall_number               6904 non-null   object \n",
      " 16  initial_firm_notification   6772 non-null   object \n",
      " 17  product_type                6904 non-null   object \n",
      " 18  event_id                    6904 non-null   int64  \n",
      " 19  recall_initiation_date      6904 non-null   int64  \n",
      " 20  postal_code                 6129 non-null   object \n",
      " 21  voluntary_mandated          6904 non-null   object \n",
      " 22  status                      6904 non-null   object \n",
      " 23  termination_date            1989 non-null   float64\n",
      " 24  more_code_info              146 non-null    object \n",
      "dtypes: float64(1), int64(4), object(20)\n",
      "memory usage: 1.3+ MB\n"
     ]
    }
   ],
   "source": [
    "df.info()"
   ]
  },
  {
   "cell_type": "code",
   "execution_count": 4,
   "metadata": {},
   "outputs": [
    {
     "data": {
      "text/plain": [
       "6904"
      ]
     },
     "execution_count": 4,
     "metadata": {},
     "output_type": "execute_result"
    }
   ],
   "source": [
    "# Verify recall_number is the unique key for enforcement report\n",
    "\n",
    "df[\"recall_number\"].nunique()  "
   ]
  },
  {
   "cell_type": "markdown",
   "metadata": {},
   "source": [
    "## We are interested in just two columns\n",
    "\n",
    "- reason for recall\n",
    "- classification"
   ]
  },
  {
   "cell_type": "code",
   "execution_count": 5,
   "metadata": {},
   "outputs": [
    {
     "data": {
      "text/html": [
       "<div>\n",
       "<style scoped>\n",
       "    .dataframe tbody tr th:only-of-type {\n",
       "        vertical-align: middle;\n",
       "    }\n",
       "\n",
       "    .dataframe tbody tr th {\n",
       "        vertical-align: top;\n",
       "    }\n",
       "\n",
       "    .dataframe thead th {\n",
       "        text-align: right;\n",
       "    }\n",
       "</style>\n",
       "<table border=\"1\" class=\"dataframe\">\n",
       "  <thead>\n",
       "    <tr style=\"text-align: right;\">\n",
       "      <th></th>\n",
       "      <th>reason_for_recall</th>\n",
       "      <th>classification</th>\n",
       "    </tr>\n",
       "  </thead>\n",
       "  <tbody>\n",
       "    <tr>\n",
       "      <th>2100</th>\n",
       "      <td>Due to a problem in the packaging sealing process at the supplier of the affected devices, it cannot be guaranteed that the sterilized medical devices in the scope of this recall remain sterile during their shelf-life.</td>\n",
       "      <td>Class II</td>\n",
       "    </tr>\n",
       "    <tr>\n",
       "      <th>5249</th>\n",
       "      <td>Labeling update concerning potential leaks from  the catheter or the start-up kit (SUK) tubing</td>\n",
       "      <td>Class II</td>\n",
       "    </tr>\n",
       "    <tr>\n",
       "      <th>4348</th>\n",
       "      <td>An increase in the rate of complaints for difficulty or inability to track over the guidewire, may result in a  procedural delay due to the need to exchange the affected device</td>\n",
       "      <td>Class II</td>\n",
       "    </tr>\n",
       "    <tr>\n",
       "      <th>6212</th>\n",
       "      <td>Cordis is recalling one (1) lot of POWERFLEX P3 PTA Dilatation Catheter due to the potential for body/shaft voids in the proximal seal area.</td>\n",
       "      <td>Class II</td>\n",
       "    </tr>\n",
       "    <tr>\n",
       "      <th>493</th>\n",
       "      <td>Potential product mix-up. The recalling firm has determined that one unit of OsteoVation EX, 3cc that may not have been sterilized was inadvertently packaged as CranioSculpt C, 10cc.</td>\n",
       "      <td>Class II</td>\n",
       "    </tr>\n",
       "  </tbody>\n",
       "</table>\n",
       "</div>"
      ],
      "text/plain": [
       "                                                                                                                                                                                                               reason_for_recall  \\\n",
       "2100  Due to a problem in the packaging sealing process at the supplier of the affected devices, it cannot be guaranteed that the sterilized medical devices in the scope of this recall remain sterile during their shelf-life.   \n",
       "5249                                                                                                                              Labeling update concerning potential leaks from  the catheter or the start-up kit (SUK) tubing   \n",
       "4348                                            An increase in the rate of complaints for difficulty or inability to track over the guidewire, may result in a  procedural delay due to the need to exchange the affected device   \n",
       "6212                                                                                Cordis is recalling one (1) lot of POWERFLEX P3 PTA Dilatation Catheter due to the potential for body/shaft voids in the proximal seal area.   \n",
       "493                                       Potential product mix-up. The recalling firm has determined that one unit of OsteoVation EX, 3cc that may not have been sterilized was inadvertently packaged as CranioSculpt C, 10cc.   \n",
       "\n",
       "     classification  \n",
       "2100       Class II  \n",
       "5249       Class II  \n",
       "4348       Class II  \n",
       "6212       Class II  \n",
       "493        Class II  "
      ]
     },
     "execution_count": 5,
     "metadata": {},
     "output_type": "execute_result"
    }
   ],
   "source": [
    "df[[\"reason_for_recall\", \"classification\"]].sample(5)"
   ]
  },
  {
   "cell_type": "code",
   "execution_count": 6,
   "metadata": {},
   "outputs": [
    {
     "data": {
      "text/plain": [
       "array(['Class II', 'Class I', 'Class III'], dtype=object)"
      ]
     },
     "execution_count": 6,
     "metadata": {},
     "output_type": "execute_result"
    }
   ],
   "source": [
    "df[\"classification\"].unique()"
   ]
  },
  {
   "cell_type": "code",
   "execution_count": 7,
   "metadata": {},
   "outputs": [
    {
     "data": {
      "text/html": [
       "<div>\n",
       "<style scoped>\n",
       "    .dataframe tbody tr th:only-of-type {\n",
       "        vertical-align: middle;\n",
       "    }\n",
       "\n",
       "    .dataframe tbody tr th {\n",
       "        vertical-align: top;\n",
       "    }\n",
       "\n",
       "    .dataframe thead th {\n",
       "        text-align: right;\n",
       "    }\n",
       "</style>\n",
       "<table border=\"1\" class=\"dataframe\">\n",
       "  <thead>\n",
       "    <tr style=\"text-align: right;\">\n",
       "      <th></th>\n",
       "      <th>classification</th>\n",
       "      <th>count</th>\n",
       "    </tr>\n",
       "  </thead>\n",
       "  <tbody>\n",
       "    <tr>\n",
       "      <th>0</th>\n",
       "      <td>Class I</td>\n",
       "      <td>473</td>\n",
       "    </tr>\n",
       "    <tr>\n",
       "      <th>1</th>\n",
       "      <td>Class II</td>\n",
       "      <td>6266</td>\n",
       "    </tr>\n",
       "    <tr>\n",
       "      <th>2</th>\n",
       "      <td>Class III</td>\n",
       "      <td>165</td>\n",
       "    </tr>\n",
       "  </tbody>\n",
       "</table>\n",
       "</div>"
      ],
      "text/plain": [
       "  classification  count\n",
       "0        Class I    473\n",
       "1       Class II   6266\n",
       "2      Class III    165"
      ]
     },
     "execution_count": 7,
     "metadata": {},
     "output_type": "execute_result"
    }
   ],
   "source": [
    "df_class_count = df[[\"classification\"]].groupby(\"classification\", as_index=False).value_counts()\n",
    "\n",
    "df_class_count"
   ]
  },
  {
   "cell_type": "code",
   "execution_count": 8,
   "metadata": {},
   "outputs": [
    {
     "data": {
      "application/vnd.plotly.v1+json": {
       "config": {
        "plotlyServerURL": "https://plot.ly"
       },
       "data": [
        {
         "domain": {
          "x": [
           0,
           1
          ],
          "y": [
           0,
           1
          ]
         },
         "hovertemplate": "classification=%{label}<br>count=%{value}<extra></extra>",
         "labels": [
          "Class I",
          "Class II",
          "Class III"
         ],
         "legendgroup": "",
         "name": "",
         "showlegend": true,
         "textinfo": "percent+label+value",
         "textposition": "outside",
         "type": "pie",
         "values": [
          473,
          6266,
          165
         ]
        }
       ],
       "layout": {
        "legend": {
         "tracegroupgap": 0
        },
        "showlegend": false,
        "template": {
         "data": {
          "bar": [
           {
            "error_x": {
             "color": "#2a3f5f"
            },
            "error_y": {
             "color": "#2a3f5f"
            },
            "marker": {
             "line": {
              "color": "white",
              "width": 0.5
             },
             "pattern": {
              "fillmode": "overlay",
              "size": 10,
              "solidity": 0.2
             }
            },
            "type": "bar"
           }
          ],
          "barpolar": [
           {
            "marker": {
             "line": {
              "color": "white",
              "width": 0.5
             },
             "pattern": {
              "fillmode": "overlay",
              "size": 10,
              "solidity": 0.2
             }
            },
            "type": "barpolar"
           }
          ],
          "carpet": [
           {
            "aaxis": {
             "endlinecolor": "#2a3f5f",
             "gridcolor": "#C8D4E3",
             "linecolor": "#C8D4E3",
             "minorgridcolor": "#C8D4E3",
             "startlinecolor": "#2a3f5f"
            },
            "baxis": {
             "endlinecolor": "#2a3f5f",
             "gridcolor": "#C8D4E3",
             "linecolor": "#C8D4E3",
             "minorgridcolor": "#C8D4E3",
             "startlinecolor": "#2a3f5f"
            },
            "type": "carpet"
           }
          ],
          "choropleth": [
           {
            "colorbar": {
             "outlinewidth": 0,
             "ticks": ""
            },
            "type": "choropleth"
           }
          ],
          "contour": [
           {
            "colorbar": {
             "outlinewidth": 0,
             "ticks": ""
            },
            "colorscale": [
             [
              0,
              "#0d0887"
             ],
             [
              0.1111111111111111,
              "#46039f"
             ],
             [
              0.2222222222222222,
              "#7201a8"
             ],
             [
              0.3333333333333333,
              "#9c179e"
             ],
             [
              0.4444444444444444,
              "#bd3786"
             ],
             [
              0.5555555555555556,
              "#d8576b"
             ],
             [
              0.6666666666666666,
              "#ed7953"
             ],
             [
              0.7777777777777778,
              "#fb9f3a"
             ],
             [
              0.8888888888888888,
              "#fdca26"
             ],
             [
              1,
              "#f0f921"
             ]
            ],
            "type": "contour"
           }
          ],
          "contourcarpet": [
           {
            "colorbar": {
             "outlinewidth": 0,
             "ticks": ""
            },
            "type": "contourcarpet"
           }
          ],
          "heatmap": [
           {
            "colorbar": {
             "outlinewidth": 0,
             "ticks": ""
            },
            "colorscale": [
             [
              0,
              "#0d0887"
             ],
             [
              0.1111111111111111,
              "#46039f"
             ],
             [
              0.2222222222222222,
              "#7201a8"
             ],
             [
              0.3333333333333333,
              "#9c179e"
             ],
             [
              0.4444444444444444,
              "#bd3786"
             ],
             [
              0.5555555555555556,
              "#d8576b"
             ],
             [
              0.6666666666666666,
              "#ed7953"
             ],
             [
              0.7777777777777778,
              "#fb9f3a"
             ],
             [
              0.8888888888888888,
              "#fdca26"
             ],
             [
              1,
              "#f0f921"
             ]
            ],
            "type": "heatmap"
           }
          ],
          "heatmapgl": [
           {
            "colorbar": {
             "outlinewidth": 0,
             "ticks": ""
            },
            "colorscale": [
             [
              0,
              "#0d0887"
             ],
             [
              0.1111111111111111,
              "#46039f"
             ],
             [
              0.2222222222222222,
              "#7201a8"
             ],
             [
              0.3333333333333333,
              "#9c179e"
             ],
             [
              0.4444444444444444,
              "#bd3786"
             ],
             [
              0.5555555555555556,
              "#d8576b"
             ],
             [
              0.6666666666666666,
              "#ed7953"
             ],
             [
              0.7777777777777778,
              "#fb9f3a"
             ],
             [
              0.8888888888888888,
              "#fdca26"
             ],
             [
              1,
              "#f0f921"
             ]
            ],
            "type": "heatmapgl"
           }
          ],
          "histogram": [
           {
            "marker": {
             "pattern": {
              "fillmode": "overlay",
              "size": 10,
              "solidity": 0.2
             }
            },
            "type": "histogram"
           }
          ],
          "histogram2d": [
           {
            "colorbar": {
             "outlinewidth": 0,
             "ticks": ""
            },
            "colorscale": [
             [
              0,
              "#0d0887"
             ],
             [
              0.1111111111111111,
              "#46039f"
             ],
             [
              0.2222222222222222,
              "#7201a8"
             ],
             [
              0.3333333333333333,
              "#9c179e"
             ],
             [
              0.4444444444444444,
              "#bd3786"
             ],
             [
              0.5555555555555556,
              "#d8576b"
             ],
             [
              0.6666666666666666,
              "#ed7953"
             ],
             [
              0.7777777777777778,
              "#fb9f3a"
             ],
             [
              0.8888888888888888,
              "#fdca26"
             ],
             [
              1,
              "#f0f921"
             ]
            ],
            "type": "histogram2d"
           }
          ],
          "histogram2dcontour": [
           {
            "colorbar": {
             "outlinewidth": 0,
             "ticks": ""
            },
            "colorscale": [
             [
              0,
              "#0d0887"
             ],
             [
              0.1111111111111111,
              "#46039f"
             ],
             [
              0.2222222222222222,
              "#7201a8"
             ],
             [
              0.3333333333333333,
              "#9c179e"
             ],
             [
              0.4444444444444444,
              "#bd3786"
             ],
             [
              0.5555555555555556,
              "#d8576b"
             ],
             [
              0.6666666666666666,
              "#ed7953"
             ],
             [
              0.7777777777777778,
              "#fb9f3a"
             ],
             [
              0.8888888888888888,
              "#fdca26"
             ],
             [
              1,
              "#f0f921"
             ]
            ],
            "type": "histogram2dcontour"
           }
          ],
          "mesh3d": [
           {
            "colorbar": {
             "outlinewidth": 0,
             "ticks": ""
            },
            "type": "mesh3d"
           }
          ],
          "parcoords": [
           {
            "line": {
             "colorbar": {
              "outlinewidth": 0,
              "ticks": ""
             }
            },
            "type": "parcoords"
           }
          ],
          "pie": [
           {
            "automargin": true,
            "type": "pie"
           }
          ],
          "scatter": [
           {
            "fillpattern": {
             "fillmode": "overlay",
             "size": 10,
             "solidity": 0.2
            },
            "type": "scatter"
           }
          ],
          "scatter3d": [
           {
            "line": {
             "colorbar": {
              "outlinewidth": 0,
              "ticks": ""
             }
            },
            "marker": {
             "colorbar": {
              "outlinewidth": 0,
              "ticks": ""
             }
            },
            "type": "scatter3d"
           }
          ],
          "scattercarpet": [
           {
            "marker": {
             "colorbar": {
              "outlinewidth": 0,
              "ticks": ""
             }
            },
            "type": "scattercarpet"
           }
          ],
          "scattergeo": [
           {
            "marker": {
             "colorbar": {
              "outlinewidth": 0,
              "ticks": ""
             }
            },
            "type": "scattergeo"
           }
          ],
          "scattergl": [
           {
            "marker": {
             "colorbar": {
              "outlinewidth": 0,
              "ticks": ""
             }
            },
            "type": "scattergl"
           }
          ],
          "scattermapbox": [
           {
            "marker": {
             "colorbar": {
              "outlinewidth": 0,
              "ticks": ""
             }
            },
            "type": "scattermapbox"
           }
          ],
          "scatterpolar": [
           {
            "marker": {
             "colorbar": {
              "outlinewidth": 0,
              "ticks": ""
             }
            },
            "type": "scatterpolar"
           }
          ],
          "scatterpolargl": [
           {
            "marker": {
             "colorbar": {
              "outlinewidth": 0,
              "ticks": ""
             }
            },
            "type": "scatterpolargl"
           }
          ],
          "scatterternary": [
           {
            "marker": {
             "colorbar": {
              "outlinewidth": 0,
              "ticks": ""
             }
            },
            "type": "scatterternary"
           }
          ],
          "surface": [
           {
            "colorbar": {
             "outlinewidth": 0,
             "ticks": ""
            },
            "colorscale": [
             [
              0,
              "#0d0887"
             ],
             [
              0.1111111111111111,
              "#46039f"
             ],
             [
              0.2222222222222222,
              "#7201a8"
             ],
             [
              0.3333333333333333,
              "#9c179e"
             ],
             [
              0.4444444444444444,
              "#bd3786"
             ],
             [
              0.5555555555555556,
              "#d8576b"
             ],
             [
              0.6666666666666666,
              "#ed7953"
             ],
             [
              0.7777777777777778,
              "#fb9f3a"
             ],
             [
              0.8888888888888888,
              "#fdca26"
             ],
             [
              1,
              "#f0f921"
             ]
            ],
            "type": "surface"
           }
          ],
          "table": [
           {
            "cells": {
             "fill": {
              "color": "#EBF0F8"
             },
             "line": {
              "color": "white"
             }
            },
            "header": {
             "fill": {
              "color": "#C8D4E3"
             },
             "line": {
              "color": "white"
             }
            },
            "type": "table"
           }
          ]
         },
         "layout": {
          "annotationdefaults": {
           "arrowcolor": "#2a3f5f",
           "arrowhead": 0,
           "arrowwidth": 1
          },
          "autotypenumbers": "strict",
          "coloraxis": {
           "colorbar": {
            "outlinewidth": 0,
            "ticks": ""
           }
          },
          "colorscale": {
           "diverging": [
            [
             0,
             "#8e0152"
            ],
            [
             0.1,
             "#c51b7d"
            ],
            [
             0.2,
             "#de77ae"
            ],
            [
             0.3,
             "#f1b6da"
            ],
            [
             0.4,
             "#fde0ef"
            ],
            [
             0.5,
             "#f7f7f7"
            ],
            [
             0.6,
             "#e6f5d0"
            ],
            [
             0.7,
             "#b8e186"
            ],
            [
             0.8,
             "#7fbc41"
            ],
            [
             0.9,
             "#4d9221"
            ],
            [
             1,
             "#276419"
            ]
           ],
           "sequential": [
            [
             0,
             "#0d0887"
            ],
            [
             0.1111111111111111,
             "#46039f"
            ],
            [
             0.2222222222222222,
             "#7201a8"
            ],
            [
             0.3333333333333333,
             "#9c179e"
            ],
            [
             0.4444444444444444,
             "#bd3786"
            ],
            [
             0.5555555555555556,
             "#d8576b"
            ],
            [
             0.6666666666666666,
             "#ed7953"
            ],
            [
             0.7777777777777778,
             "#fb9f3a"
            ],
            [
             0.8888888888888888,
             "#fdca26"
            ],
            [
             1,
             "#f0f921"
            ]
           ],
           "sequentialminus": [
            [
             0,
             "#0d0887"
            ],
            [
             0.1111111111111111,
             "#46039f"
            ],
            [
             0.2222222222222222,
             "#7201a8"
            ],
            [
             0.3333333333333333,
             "#9c179e"
            ],
            [
             0.4444444444444444,
             "#bd3786"
            ],
            [
             0.5555555555555556,
             "#d8576b"
            ],
            [
             0.6666666666666666,
             "#ed7953"
            ],
            [
             0.7777777777777778,
             "#fb9f3a"
            ],
            [
             0.8888888888888888,
             "#fdca26"
            ],
            [
             1,
             "#f0f921"
            ]
           ]
          },
          "colorway": [
           "#636efa",
           "#EF553B",
           "#00cc96",
           "#ab63fa",
           "#FFA15A",
           "#19d3f3",
           "#FF6692",
           "#B6E880",
           "#FF97FF",
           "#FECB52"
          ],
          "font": {
           "color": "#2a3f5f"
          },
          "geo": {
           "bgcolor": "white",
           "lakecolor": "white",
           "landcolor": "white",
           "showlakes": true,
           "showland": true,
           "subunitcolor": "#C8D4E3"
          },
          "hoverlabel": {
           "align": "left"
          },
          "hovermode": "closest",
          "mapbox": {
           "style": "light"
          },
          "paper_bgcolor": "white",
          "plot_bgcolor": "white",
          "polar": {
           "angularaxis": {
            "gridcolor": "#EBF0F8",
            "linecolor": "#EBF0F8",
            "ticks": ""
           },
           "bgcolor": "white",
           "radialaxis": {
            "gridcolor": "#EBF0F8",
            "linecolor": "#EBF0F8",
            "ticks": ""
           }
          },
          "scene": {
           "xaxis": {
            "backgroundcolor": "white",
            "gridcolor": "#DFE8F3",
            "gridwidth": 2,
            "linecolor": "#EBF0F8",
            "showbackground": true,
            "ticks": "",
            "zerolinecolor": "#EBF0F8"
           },
           "yaxis": {
            "backgroundcolor": "white",
            "gridcolor": "#DFE8F3",
            "gridwidth": 2,
            "linecolor": "#EBF0F8",
            "showbackground": true,
            "ticks": "",
            "zerolinecolor": "#EBF0F8"
           },
           "zaxis": {
            "backgroundcolor": "white",
            "gridcolor": "#DFE8F3",
            "gridwidth": 2,
            "linecolor": "#EBF0F8",
            "showbackground": true,
            "ticks": "",
            "zerolinecolor": "#EBF0F8"
           }
          },
          "shapedefaults": {
           "line": {
            "color": "#2a3f5f"
           }
          },
          "ternary": {
           "aaxis": {
            "gridcolor": "#DFE8F3",
            "linecolor": "#A2B1C6",
            "ticks": ""
           },
           "baxis": {
            "gridcolor": "#DFE8F3",
            "linecolor": "#A2B1C6",
            "ticks": ""
           },
           "bgcolor": "white",
           "caxis": {
            "gridcolor": "#DFE8F3",
            "linecolor": "#A2B1C6",
            "ticks": ""
           }
          },
          "title": {
           "x": 0.05
          },
          "xaxis": {
           "automargin": true,
           "gridcolor": "#EBF0F8",
           "linecolor": "#EBF0F8",
           "ticks": "",
           "title": {
            "standoff": 15
           },
           "zerolinecolor": "#EBF0F8",
           "zerolinewidth": 2
          },
          "yaxis": {
           "automargin": true,
           "gridcolor": "#EBF0F8",
           "linecolor": "#EBF0F8",
           "ticks": "",
           "title": {
            "standoff": 15
           },
           "zerolinecolor": "#EBF0F8",
           "zerolinewidth": 2
          }
         }
        },
        "title": {
         "text": "Medical Device Recall Classification"
        }
       }
      }
     },
     "metadata": {},
     "output_type": "display_data"
    }
   ],
   "source": [
    "fig = px.pie(\n",
    "    df_class_count, \n",
    "    names=\"classification\", \n",
    "    values=\"count\",\n",
    "#    height=600,\n",
    "    title=\"Medical Device Recall Classification\",\n",
    "    template=\"plotly_white\"\n",
    ")\n",
    "\n",
    "fig.update_traces(textposition='outside', textinfo='percent+label+value')\n",
    "fig.update_layout(showlegend=False)\n",
    "\n",
    "fig.show()"
   ]
  },
  {
   "cell_type": "markdown",
   "metadata": {},
   "source": [
    "# The End."
   ]
  }
 ],
 "metadata": {
  "kernelspec": {
   "display_name": "Python 3.8.10 ('.venv': venv)",
   "language": "python",
   "name": "python3"
  },
  "language_info": {
   "codemirror_mode": {
    "name": "ipython",
    "version": 3
   },
   "file_extension": ".py",
   "mimetype": "text/x-python",
   "name": "python",
   "nbconvert_exporter": "python",
   "pygments_lexer": "ipython3",
   "version": "3.8.10"
  },
  "orig_nbformat": 4,
  "vscode": {
   "interpreter": {
    "hash": "20b8f05830c8f2bdb9bfb0e60bae33f9cbf89ff6f60bf3e872585dc59b2a0204"
   }
  }
 },
 "nbformat": 4,
 "nbformat_minor": 2
}
